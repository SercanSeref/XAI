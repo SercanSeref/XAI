{
 "cells": [
  {
   "cell_type": "markdown",
   "id": "3668d257",
   "metadata": {},
   "source": [
    "# Only template\n",
    "\n",
    "I will try streamlit later"
   ]
  },
  {
   "cell_type": "code",
   "execution_count": null,
   "id": "96fdf7df",
   "metadata": {
    "vscode": {
     "languageId": "plaintext"
    }
   },
   "outputs": [],
   "source": [
    "import streamlit as st\n",
    "import shap\n",
    "import lime\n",
    "import lime.lime_tabular\n",
    "import numpy as np\n",
    "import pandas as pd\n",
    "import matplotlib.pyplot as plt\n",
    "import streamlit.components.v1 as components\n",
    "\n",
    "# ============ PLACEHOLDER: replace with your own model & data ============\n",
    "# Example model, X, test sample\n",
    "def load_model_and_data():\n",
    "    from xgboost import XGBRegressor\n",
    "    from sklearn.datasets import fetch_california_housing\n",
    "    from sklearn.model_selection import train_test_split\n",
    "\n",
    "    data = fetch_california_housing()\n",
    "    X = pd.DataFrame(data.data, columns=data.feature_names)\n",
    "    y = data.target\n",
    "\n",
    "    X_train, X_test, y_train, y_test = train_test_split(X, y, test_size=0.2, random_state=42)\n",
    "    model = XGBRegressor().fit(X_train, y_train)\n",
    "    return model, X_test.reset_index(drop=True), y_test.reset_index(drop=True)\n",
    "\n",
    "model, test_X, test_y = load_model_and_data()\n",
    "\n",
    "# ======================== Streamlit UI =========================\n",
    "st.title(\"🔍 SHAP vs LIME Explanation Dashboard\")\n",
    "\n",
    "sample_idx = st.slider(\"Select a sample index\", 0, len(test_X)-1, 0)\n",
    "method = st.selectbox(\"Choose explanation method\", [\"SHAP\", \"LIME\"])\n",
    "\n",
    "X_sample = test_X.iloc[[sample_idx]]\n",
    "\n",
    "# ======================== SHAP =========================\n",
    "@st.cache_resource\n",
    "def get_shap_explainer():\n",
    "    return shap.Explainer(model, test_X)\n",
    "\n",
    "if method == \"SHAP\":\n",
    "    st.subheader(\"SHAP Explanation\")\n",
    "    explainer = get_shap_explainer()\n",
    "    shap_values = explainer(X_sample)\n",
    "\n",
    "    fig = shap.plots._waterfall.waterfall_legacy(shap_values[0], show=False)\n",
    "    st.pyplot(fig)\n",
    "\n",
    "# ======================== LIME =========================\n",
    "elif method == \"LIME\":\n",
    "    st.subheader(\"LIME Explanation\")\n",
    "    lime_explainer = lime.lime_tabular.LimeTabularExplainer(\n",
    "        training_data=np.array(test_X),\n",
    "        feature_names=test_X.columns,\n",
    "        mode='regression',\n",
    "        verbose=False\n",
    "    )\n",
    "\n",
    "    lime_exp = lime_explainer.explain_instance(\n",
    "        data_row=np.array(X_sample.iloc[0]),\n",
    "        predict_fn=model.predict\n",
    "    )\n",
    "\n",
    "    # Save to html and embed\n",
    "    html = lime_exp.as_html()\n",
    "    components.html(html, height=800, scrolling=True)\n",
    "\n",
    "# ======================== Extra Info =========================\n",
    "st.markdown(\"---\")\n",
    "st.markdown(f\"**Predicted value**: `{model.predict(X_sample)[0]:.2f}`\")\n",
    "st.markdown(f\"**True value**: `{test_y.iloc[sample_idx]:.2f}`\")\n"
   ]
  }
 ],
 "metadata": {
  "language_info": {
   "name": "python"
  }
 },
 "nbformat": 4,
 "nbformat_minor": 5
}
