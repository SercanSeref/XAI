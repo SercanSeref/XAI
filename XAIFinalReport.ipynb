{
 "cells": [
  {
   "cell_type": "raw",
   "id": "a31c8d75",
   "metadata": {
    "vscode": {
     "languageId": "raw"
    }
   },
   "source": [
    "---\n",
    "title: \"Final Report\"\n",
    "subtitle: \"Interactive and Explainable AI\"\n",
    "author: \n",
    "  - name: \"Minji Kim\"\n",
    "  - name: \"Sercan Şeref\"\n",
    "  - name: \"Stijn But\"\n",
    "  - name: \"Xuechun Lyu\"\n",
    "date: \"21 April 2025\"\n",
    "bibliography: lib.bib\n",
    "abstract: |\n",
    "  This is XAI Report\n",
    "lang: \"en\"\n",
    "jupyter: python3 \n",
    "format:\n",
    "  pdf:\n",
    "  number-sections: true\n",
    "  colorlinks: true\n",
    "  documentclass: scrartcl\n",
    "  papersize: letter\n",
    "  toc: true\n",
    "code-line-numbers: true\n",
    "execute:\n",
    "  enabled: true\n",
    "  warning: true\n",
    "  error: true\n",
    "---\n",
    "\n",
    "\\newpage"
   ]
  },
  {
   "cell_type": "markdown",
   "id": "5c66786d",
   "metadata": {
    "vscode": {
     "languageId": "raw"
    }
   },
   "source": [
    "# Introduction\n",
    "\n",
    "- *Description of the conducted assignment*\n",
    "\n",
    "The disagreement problem, as highlighted in the Kaur et al. (2020) paper, emphasizes the challenge of interpreting conflicting feature importances provided by different explanation tools and methods. This issue is particularly relevant in the context of dashboarding and explanation tools, where users often struggle to cope with varying explanation styles and visualizations.\n",
    "\n",
    "Our project focuses on addressing this problem by designing a dashboard tailored for data science students. The dashboard aims to help users understand the features that contribute to housing price predictions by allowing them to compare 2 or 3 different explanation methods side-by-side. This comparison will provide insights into how these methods differ and how users can effectively interpret them.\n",
    "\n",
    "The relevance of this tool becomes even more apparent when considering the housing market in the Netherlands, where finding affordable housing is a significant challenge. A tool that explains housing price predictions in an accessible and transparent way could be invaluable for understanding the factors driving these prices, enabling better decision-making for both students and professionals.\n",
    "\n",
    "To achieve this, we conducted user research and pilot testing using standard dashboarding tools. Based on the findings, we designed a prototype dashboard that aligns with the needs of our target audience. The datasets used for this project are sourced from the course materials or other relevant projects.\n",
    "\n",
    "- *Design debrief*\n",
    "\n",
    "\n"
   ]
  },
  {
   "cell_type": "markdown",
   "id": "2822528f",
   "metadata": {},
   "source": [
    "# Empathize\n",
    "\n",
    "- *A well-argued and detailed description of the conducted pilot testing and qualitative user research methods (if any), review of XAI tools/techniques or literature*\n",
    "\n",
    "We utilized various explanation methods introduced during the initial lectures and explored through the notebooks provided by the lecturers, including SHAP, LIME, Integrated Gradients, SmoothGrad, and GradientShap. These notebooks not only helped us understand the theoretical aspects of these methods but also demonstrated their practical applicability, showing that we could effectively use these techniques to address the housing problem in the Netherlands. Each of these methods offers unique approaches to understanding feature importance and model interpretability.\n",
    "\n",
    "SHAP (SHapley Additive exPlanations) is a game-theoretic approach that assigns importance values to features by considering all possible feature combinations, ensuring consistency and fairness in feature attribution. LIME (Local Interpretable Model-agnostic Explanations) explains individual predictions by approximating the model locally with an interpretable surrogate model, such as linear regression. Integrated Gradients is a gradient-based method that computes feature attributions by integrating the gradients of the model's output with respect to the input along a path from a baseline to the actual input. SmoothGrad enhances gradient-based methods by reducing noise through averaging gradients over multiple noisy samples of the input, resulting in smoother and more interpretable explanations. GradientShap, a variant of Integrated Gradients, combines the baseline approach with random sampling and averages the attributions over multiple baselines to improve robustness.\n",
    "\n",
    "In addition to reviewing and testing these methods, we conducted a brief user research study with data science students to assess whether they perceive value in such a dashboard. The feedback from this research validated the idea, as students expressed that a tool enabling the comparison of different explanation methods would be highly beneficial for understanding and interpreting model predictions. This validation further reinforced the relevance of our project and guided the design of the prototype dashboard.\n",
    "\n",
    "*papers about the housing problem*\n",
    "\n",
    "- *Results of the (qualitative) analysis / conclusion.*\n",
    "\n",
    "*Summarize Key Findings from User Research:*\n",
    "\n",
    "*Highlight the main insights from your user research with data science students. For example, mention how students found value in comparing explanation methods and how this aligns with their needs for understanding housing price predictions.*\n",
    "*Discuss Patterns or Themes:*\n",
    "\n",
    "*Identify recurring themes or patterns in the feedback. For instance, students might have expressed a preference for specific explanation methods (e.g., SHAP or LIME) or emphasized the importance of visual clarity in the dashboard.*\n",
    "*Relate Findings to the Dashboard Design:*\n",
    "\n",
    "*Explain how the feedback influenced your design decisions. For example, if students valued side-by-side comparisons, describe how this feature was incorporated into the prototype.*\n",
    "*Address Limitations:*\n",
    "\n",
    "*Acknowledge any limitations in your research, such as a small sample size or limited diversity in the user group, and how these might affect the generalizability of your findings.*\n",
    "*Conclude with Validation:*\n",
    "\n",
    "*State whether the research validated the need for the dashboard and how it supports the relevance of your project. For example, emphasize that the feedback confirmed the dashboard's potential to help users interpret housing price predictions effectively.*\n",
    "*Link to Future Work:*\n",
    "\n",
    "*Briefly mention how the findings could guide further development or testing of the dashboard, such as refining specific features or conducting more extensive user testing.*\n"
   ]
  },
  {
   "cell_type": "markdown",
   "id": "1b96a848",
   "metadata": {},
   "source": [
    "# Define\n",
    "\n",
    "- *A well-argued description of the XAI techniques and user needs chosen to focus on in the ideation phase*\n",
    "\n"
   ]
  },
  {
   "cell_type": "markdown",
   "id": "065b35c9",
   "metadata": {},
   "source": [
    "# Ideation\n",
    "\n",
    "- *Description of the creative techniques used for divergence and convergence*\n",
    "- *Result of the divergence and convergence technique - A well-argued description of the chosen solution*"
   ]
  },
  {
   "cell_type": "markdown",
   "id": "53f30af5",
   "metadata": {},
   "source": [
    "# Prototype\n",
    "\n",
    "- *A well-argued description of the developed prototype, including images of the prototype*"
   ]
  },
  {
   "cell_type": "markdown",
   "id": "2de24b53",
   "metadata": {},
   "source": [
    "# Test\n",
    "\n",
    "- *A well-argued and detailed description of the conducted qualitative user research methods used for testing the prototype.*\n",
    "- *Research question*\n",
    "- *Results of the data analysis*"
   ]
  },
  {
   "cell_type": "markdown",
   "id": "fba6f6e1",
   "metadata": {},
   "source": [
    "# Conclusion\n",
    "\n",
    "- *Conclusion of the user testing*\n",
    "- *A well-argued description of the final prototype, including visualizations*\n",
    "- *Visualization of the interaction of the user with the concept in the use-context.*"
   ]
  },
  {
   "cell_type": "markdown",
   "id": "9ab8bc16",
   "metadata": {},
   "source": [
    "# Short description of design archive\n",
    "\n",
    "- *Method overview, references to the archive that contains materials used in user research (e.g. probe materials, interview guide, observation scheme), the notes you took throughout your design process and collected RAW data.*\n"
   ]
  }
 ],
 "metadata": {
  "language_info": {
   "name": "python"
  }
 },
 "nbformat": 4,
 "nbformat_minor": 5
}
