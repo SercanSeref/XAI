{
 "cells": [
  {
   "cell_type": "raw",
   "id": "a31c8d75",
   "metadata": {},
   "source": [
    "---\n",
    "title: \"Final Report\"\n",
    "subtitle: \"Interactive and Explainable AI\"\n",
    "author: \n",
    "    - name: \"Minji Kim\"\n",
    "    - name: \"Sercan Şeref\"\n",
    "    - name: \"Stijn But\"\n",
    "    - name: \"Xuechun Lyu\"\n",
    "date: \"21 April 2025\"\n",
    "bibliography: lib.bib\n",
    "abstract: |\n",
    "  This is XAI Report\n",
    "lang: \"en\"\n",
    "jupyter: python3 \n",
    "format:\n",
    "  pdf:\n",
    "    number-sections: true\n",
    "    colorlinks: true\n",
    "    documentclass: scrartcl\n",
    "    papersize: letter\n",
    "code-line-numbers: true\n",
    "execute:\n",
    "  enabled: true\n",
    "  warning: true\n",
    "  error: true\n",
    "---\n",
    "\n",
    "\\newpage"
   ]
  }
 ],
 "metadata": {
  "language_info": {
   "name": "python"
  }
 },
 "nbformat": 4,
 "nbformat_minor": 5
}
