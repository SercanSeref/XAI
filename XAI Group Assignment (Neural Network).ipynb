{
 "cells": [
  {
   "cell_type": "code",
   "execution_count": 30,
   "metadata": {},
   "outputs": [],
   "source": [
    "#Importing all the libraries\n",
    "import math\n",
    "import numpy as np\n",
    "import pandas as pd\n",
    "import seaborn as sns\n",
    "import matplotlib.pyplot as plt\n",
    "from sklearn.impute import KNNImputer\n",
    "from itertools import chain\n",
    "from scipy import stats\n",
    "\n",
    "from scipy.stats import f_oneway\n",
    "from sklearn.preprocessing import StandardScaler, MinMaxScaler, RobustScaler\n",
    "from sklearn.model_selection import train_test_split, cross_validate, GridSearchCV\n",
    "from sklearn.metrics import mean_absolute_error, root_mean_squared_error, r2_score, mean_absolute_percentage_error\n",
    "from sklearn.ensemble import RandomForestRegressor\n",
    "from sklearn.linear_model import LinearRegression, Lasso, Ridge\n",
    "from sklearn.svm import SVR\n",
    "from sklearn.neighbors import KNeighborsRegressor\n",
    "from sklearn.feature_selection import SelectKBest, f_regression\n",
    "from sklearn.inspection import permutation_importance\n",
    "\n",
    "import xgboost\n",
    "from xgboost import XGBRegressor\n",
    "# Load necessary packages\n",
    "import numpy as np\n",
    "import matplotlib.pyplot as plt\n",
    "from matplotlib.colors import LinearSegmentedColormap\n",
    "from sklearn.linear_model import LinearRegression\n",
    "from mpl_toolkits.mplot3d import Axes3D\n",
    "import math\n",
    "import lime\n",
    "import sklearn\n",
    "import sklearn.ensemble\n",
    "import sklearn.metrics\n",
    "from sklearn.datasets import fetch_20newsgroups\n",
    "from sklearn.pipeline import make_pipeline\n",
    "from lime.lime_text import LimeTextExplainer\n",
    "import shap\n",
    "import datasets\n",
    "import transformers\n",
    "import captum\n",
    "from captum.attr import Lime\n",
    "from captum.attr import KernelShap\n",
    "from captum._utils.models.linear_model import SkLearnLinearRegression, SkLearnLasso\n",
    "from captum.attr._core.lime import get_exp_kernel_similarity_function\n",
    "import pandas as pd\n",
    "import torch\n",
    "import torch.nn as nn\n",
    "from scipy import stats\n",
    "import pickle\n",
    "from scipy.stats import spearmanr, pearsonr, rankdata\n",
    "import itertools\n",
    "from scipy.special import comb\n",
    "import collections\n",
    "import scipy\n",
    "from scipy.stats import sem\n",
    "import seaborn as sns\n",
    "import matplotlib as matplotlib\n",
    "from os import path\n",
    "from sklearn.datasets import fetch_california_housing\n",
    "from sklearn.datasets import fetch_openml\n",
    "from sklearn.model_selection import train_test_split\n",
    "from sklearn.metrics import mean_squared_error\n",
    "import torch.optim as optim\n",
    "from captum.attr import LayerConductance, LayerActivation, LayerIntegratedGradients\n",
    "from captum.attr import IntegratedGradients, DeepLift, GradientShap, NoiseTunnel, FeatureAblation"
   ]
  },
  {
   "cell_type": "code",
   "execution_count": 31,
   "metadata": {},
   "outputs": [],
   "source": [
    "# Importing the dataset\n",
    "# Ensure the file path is correct. Update the path if the file is located elsewhere.\n",
    "df = pd.read_csv(r\"C:\\Users\\HUAWEI\\OneDrive\\Documents\\JADS\\Master\\Interactive and Explainable AI\\Group Assignment\\Funda_dataset_cleaned 1.csv\")"
   ]
  },
  {
   "cell_type": "code",
   "execution_count": 32,
   "metadata": {},
   "outputs": [
    {
     "data": {
      "text/html": [
       "<div>\n",
       "<style scoped>\n",
       "    .dataframe tbody tr th:only-of-type {\n",
       "        vertical-align: middle;\n",
       "    }\n",
       "\n",
       "    .dataframe tbody tr th {\n",
       "        vertical-align: top;\n",
       "    }\n",
       "\n",
       "    .dataframe thead th {\n",
       "        text-align: right;\n",
       "    }\n",
       "</style>\n",
       "<table border=\"1\" class=\"dataframe\">\n",
       "  <thead>\n",
       "    <tr style=\"text-align: right;\">\n",
       "      <th></th>\n",
       "      <th>Aangeboden sinds</th>\n",
       "      <th>Verkoopdatum</th>\n",
       "      <th>Laatste vraagprijs</th>\n",
       "      <th>Status</th>\n",
       "      <th>Soort bouw</th>\n",
       "      <th>Aantal kamers</th>\n",
       "      <th>Energielabel</th>\n",
       "      <th>Overige inpandige ruimte m2</th>\n",
       "      <th>Perceel m2</th>\n",
       "      <th>Achtertuin m2</th>\n",
       "      <th>...</th>\n",
       "      <th>Soort garage_Parkeerkelder</th>\n",
       "      <th>Soort garage_Garagebox</th>\n",
       "      <th>Soort garage_Aangebouwdestenen garage</th>\n",
       "      <th>Soort garage_Carport</th>\n",
       "      <th>Soort garage_Vrijstaandestenen garage</th>\n",
       "      <th>Soort garage_Vrijstaandehouten garage</th>\n",
       "      <th>Soort garage_Garagemet carport</th>\n",
       "      <th>Soort garage_Souterrain</th>\n",
       "      <th>Soort dak</th>\n",
       "      <th>Soort woonhuis</th>\n",
       "    </tr>\n",
       "  </thead>\n",
       "  <tbody>\n",
       "    <tr>\n",
       "      <th>0</th>\n",
       "      <td>2022-05-19</td>\n",
       "      <td>2023-03-10</td>\n",
       "      <td>485000</td>\n",
       "      <td>Verkocht</td>\n",
       "      <td>Nieuwbouw</td>\n",
       "      <td>5</td>\n",
       "      <td>A</td>\n",
       "      <td>18</td>\n",
       "      <td>263</td>\n",
       "      <td>120</td>\n",
       "      <td>...</td>\n",
       "      <td>0</td>\n",
       "      <td>0</td>\n",
       "      <td>0</td>\n",
       "      <td>0</td>\n",
       "      <td>0</td>\n",
       "      <td>0</td>\n",
       "      <td>0</td>\n",
       "      <td>0</td>\n",
       "      <td>Zadeldak bedekt met pannen</td>\n",
       "      <td>Eengezinswoning, 2-onder-1-kapwoning</td>\n",
       "    </tr>\n",
       "    <tr>\n",
       "      <th>1</th>\n",
       "      <td>2022-09-26</td>\n",
       "      <td>2023-06-22</td>\n",
       "      <td>375000</td>\n",
       "      <td>Verkocht</td>\n",
       "      <td>Nieuwbouw</td>\n",
       "      <td>5</td>\n",
       "      <td>A+++</td>\n",
       "      <td>0</td>\n",
       "      <td>198</td>\n",
       "      <td>60</td>\n",
       "      <td>...</td>\n",
       "      <td>0</td>\n",
       "      <td>0</td>\n",
       "      <td>0</td>\n",
       "      <td>0</td>\n",
       "      <td>0</td>\n",
       "      <td>0</td>\n",
       "      <td>0</td>\n",
       "      <td>0</td>\n",
       "      <td>Zadeldak bedekt met pannen</td>\n",
       "      <td>Eengezinswoning, hoekwoning</td>\n",
       "    </tr>\n",
       "    <tr>\n",
       "      <th>2</th>\n",
       "      <td>2023-01-25</td>\n",
       "      <td>2023-05-18</td>\n",
       "      <td>279500</td>\n",
       "      <td>Verkocht</td>\n",
       "      <td>Nieuwbouw</td>\n",
       "      <td>3</td>\n",
       "      <td>NaN</td>\n",
       "      <td>4</td>\n",
       "      <td>128</td>\n",
       "      <td>68</td>\n",
       "      <td>...</td>\n",
       "      <td>0</td>\n",
       "      <td>0</td>\n",
       "      <td>0</td>\n",
       "      <td>0</td>\n",
       "      <td>0</td>\n",
       "      <td>0</td>\n",
       "      <td>0</td>\n",
       "      <td>0</td>\n",
       "      <td>Lessenaardak bedekt met pannen</td>\n",
       "      <td>Eengezinswoning, tussenwoning</td>\n",
       "    </tr>\n",
       "    <tr>\n",
       "      <th>3</th>\n",
       "      <td>2022-12-02</td>\n",
       "      <td>2023-05-09</td>\n",
       "      <td>2330000</td>\n",
       "      <td>Verkocht</td>\n",
       "      <td>Nieuwbouw</td>\n",
       "      <td>8</td>\n",
       "      <td>NaN</td>\n",
       "      <td>0</td>\n",
       "      <td>2479</td>\n",
       "      <td>2172</td>\n",
       "      <td>...</td>\n",
       "      <td>0</td>\n",
       "      <td>0</td>\n",
       "      <td>0</td>\n",
       "      <td>0</td>\n",
       "      <td>0</td>\n",
       "      <td>0</td>\n",
       "      <td>0</td>\n",
       "      <td>0</td>\n",
       "      <td>Samengesteld dak bedekt met bitumineuze dakbed...</td>\n",
       "      <td>Villa, vrijstaande woning</td>\n",
       "    </tr>\n",
       "    <tr>\n",
       "      <th>4</th>\n",
       "      <td>2022-12-02</td>\n",
       "      <td>2023-05-15</td>\n",
       "      <td>2270000</td>\n",
       "      <td>Verkocht</td>\n",
       "      <td>Nieuwbouw</td>\n",
       "      <td>8</td>\n",
       "      <td>NaN</td>\n",
       "      <td>0</td>\n",
       "      <td>1796</td>\n",
       "      <td>1489</td>\n",
       "      <td>...</td>\n",
       "      <td>0</td>\n",
       "      <td>0</td>\n",
       "      <td>0</td>\n",
       "      <td>0</td>\n",
       "      <td>0</td>\n",
       "      <td>0</td>\n",
       "      <td>0</td>\n",
       "      <td>0</td>\n",
       "      <td>Samengesteld dak bedekt met bitumineuze dakbed...</td>\n",
       "      <td>Villa, vrijstaande woning</td>\n",
       "    </tr>\n",
       "  </tbody>\n",
       "</table>\n",
       "<p>5 rows × 112 columns</p>\n",
       "</div>"
      ],
      "text/plain": [
       "  Aangeboden sinds Verkoopdatum  Laatste vraagprijs    Status Soort bouw  \\\n",
       "0       2022-05-19   2023-03-10              485000  Verkocht  Nieuwbouw   \n",
       "1       2022-09-26   2023-06-22              375000  Verkocht  Nieuwbouw   \n",
       "2       2023-01-25   2023-05-18              279500  Verkocht  Nieuwbouw   \n",
       "3       2022-12-02   2023-05-09             2330000  Verkocht  Nieuwbouw   \n",
       "4       2022-12-02   2023-05-15             2270000  Verkocht  Nieuwbouw   \n",
       "\n",
       "   Aantal kamers Energielabel  Overige inpandige ruimte m2  Perceel m2  \\\n",
       "0              5            A                           18         263   \n",
       "1              5         A+++                            0         198   \n",
       "2              3          NaN                            4         128   \n",
       "3              8          NaN                            0        2479   \n",
       "4              8          NaN                            0        1796   \n",
       "\n",
       "   Achtertuin m2  ... Soort garage_Parkeerkelder  Soort garage_Garagebox  \\\n",
       "0            120  ...                          0                       0   \n",
       "1             60  ...                          0                       0   \n",
       "2             68  ...                          0                       0   \n",
       "3           2172  ...                          0                       0   \n",
       "4           1489  ...                          0                       0   \n",
       "\n",
       "   Soort garage_Aangebouwdestenen garage  Soort garage_Carport  \\\n",
       "0                                      0                     0   \n",
       "1                                      0                     0   \n",
       "2                                      0                     0   \n",
       "3                                      0                     0   \n",
       "4                                      0                     0   \n",
       "\n",
       "   Soort garage_Vrijstaandestenen garage  \\\n",
       "0                                      0   \n",
       "1                                      0   \n",
       "2                                      0   \n",
       "3                                      0   \n",
       "4                                      0   \n",
       "\n",
       "   Soort garage_Vrijstaandehouten garage  Soort garage_Garagemet carport  \\\n",
       "0                                      0                               0   \n",
       "1                                      0                               0   \n",
       "2                                      0                               0   \n",
       "3                                      0                               0   \n",
       "4                                      0                               0   \n",
       "\n",
       "   Soort garage_Souterrain                                          Soort dak  \\\n",
       "0                        0                         Zadeldak bedekt met pannen   \n",
       "1                        0                         Zadeldak bedekt met pannen   \n",
       "2                        0                     Lessenaardak bedekt met pannen   \n",
       "3                        0  Samengesteld dak bedekt met bitumineuze dakbed...   \n",
       "4                        0  Samengesteld dak bedekt met bitumineuze dakbed...   \n",
       "\n",
       "                         Soort woonhuis  \n",
       "0  Eengezinswoning, 2-onder-1-kapwoning  \n",
       "1           Eengezinswoning, hoekwoning  \n",
       "2         Eengezinswoning, tussenwoning  \n",
       "3             Villa, vrijstaande woning  \n",
       "4             Villa, vrijstaande woning  \n",
       "\n",
       "[5 rows x 112 columns]"
      ]
     },
     "execution_count": 32,
     "metadata": {},
     "output_type": "execute_result"
    }
   ],
   "source": [
    "df.head()"
   ]
  },
  {
   "cell_type": "code",
   "execution_count": 33,
   "metadata": {},
   "outputs": [
    {
     "data": {
      "text/plain": [
       "Energielabel\n",
       "C     2652\n",
       "A     2384\n",
       "B     1484\n",
       "D     1081\n",
       "E      612\n",
       "A+     561\n",
       "F      335\n",
       "G      261\n",
       "Name: count, dtype: int64"
      ]
     },
     "execution_count": 33,
     "metadata": {},
     "output_type": "execute_result"
    }
   ],
   "source": [
    "#We change everything that starts with 'A+' to A+ with the following line of code\n",
    "df.loc[df['Energielabel'].str.startswith('A+', na=False), 'Energielabel'] = 'A+'\n",
    "df['Energielabel'].value_counts()"
   ]
  },
  {
   "cell_type": "code",
   "execution_count": 34,
   "metadata": {},
   "outputs": [
    {
     "data": {
      "text/plain": [
       "Energielabel\n",
       "4.0    2652\n",
       "6.0    2384\n",
       "5.0    1484\n",
       "3.0    1081\n",
       "2.0     612\n",
       "7.0     561\n",
       "1.0     335\n",
       "0.0     261\n",
       "Name: count, dtype: int64"
      ]
     },
     "execution_count": 34,
     "metadata": {},
     "output_type": "execute_result"
    }
   ],
   "source": [
    "#We first create a dictionary that will map the ordinal values to the corresponding numerical values\n",
    "map_elabel = {'G':0, 'F':1, 'E':2, 'D':3, 'C':4, 'B':5, 'A':6, 'A+':7, 'None':99}\n",
    "df['Energielabel'] = df['Energielabel'].map(map_elabel)\n",
    "df['Energielabel'].value_counts()"
   ]
  },
  {
   "cell_type": "code",
   "execution_count": 35,
   "metadata": {},
   "outputs": [],
   "source": [
    "map_bouw = {'Bestaande bouw':0, 'Nieuwbouw':1}\n",
    "df['Soort bouw'] = df['Soort bouw'].map(map_bouw)"
   ]
  },
  {
   "cell_type": "code",
   "execution_count": 36,
   "metadata": {},
   "outputs": [
    {
     "data": {
      "text/plain": [
       "Aantal dagen tot verkoop\n",
       "20     617\n",
       "21     615\n",
       "19     523\n",
       "18     440\n",
       "14     439\n",
       "      ... \n",
       "244      1\n",
       "216      1\n",
       "161      1\n",
       "204      1\n",
       "295      1\n",
       "Name: count, Length: 265, dtype: int64"
      ]
     },
     "execution_count": 36,
     "metadata": {},
     "output_type": "execute_result"
    }
   ],
   "source": [
    "#We split the data at the value of a space. Therefore the numerical amount will be kept and the string part will\n",
    "#not be used further.\n",
    "df['Aantal dagen tot verkoop'] = df['Aantal dagen tot verkoop'].str.split(' ').str[0]\n",
    "df['Aantal dagen tot verkoop'].value_counts()"
   ]
  },
  {
   "cell_type": "code",
   "execution_count": 37,
   "metadata": {},
   "outputs": [
    {
     "name": "stdout",
     "output_type": "stream",
     "text": [
      "Value Counts of House Type\n",
      " House Type\n",
      "Eengezinswoning    8011\n",
      "Villa               873\n",
      "Herenhuis           496\n",
      "Landhuis            232\n",
      "Bungalow            182\n",
      "Woonboerderij        82\n",
      "Grachtenpand          6\n",
      "Woonboot              1\n",
      "Stacaravan            1\n",
      "Name: count, dtype: int64\n",
      "\n",
      "Value Counts of House Type\n",
      " House Subtype\n",
      "tussenwoning                                            3028\n",
      "vrijstaande woning                                      1771\n",
      "2-onder-1-kapwoning                                     1417\n",
      "hoekwoning                                               954\n",
      "tussenwoning (hofjeswoning)                              651\n",
      "geschakelde woning                                       585\n",
      "hoekwoning (hofjeswoning)                                451\n",
      "geschakelde 2-onder-1-kapwoning                          405\n",
      "eindwoning                                               262\n",
      "halfvrijstaande woning                                   141\n",
      "vrijstaande woning (semi-bungalow)                        31\n",
      "tussenwoning (drive-in woning)                            24\n",
      "tussenwoning (split-level woning)                         21\n",
      "geschakelde woning (semi-bungalow)                        18\n",
      "vrijstaande woning (dijkwoning)                           12\n",
      "geschakelde woning (patiowoning)                           9\n",
      "tussenwoning (dijkwoning)                                  7\n",
      "hoekwoning (kwadrant woning)                               6\n",
      "2-onder-1-kapwoning (semi-bungalow)                        6\n",
      "2-onder-1-kapwoning (dijkwoning)                           6\n",
      "hoekwoning (drive-in woning)                               5\n",
      "vrijstaande woning (split-level woning)                    4\n",
      "geschakelde 2-onder-1-kapwoning (semi-bungalow)            4\n",
      "verspringend                                               4\n",
      "hoekwoning (semi-bungalow)                                 4\n",
      "tussenwoning (patiowoning)                                 4\n",
      "geschakelde woning (kwadrant woning)                       4\n",
      "2-onder-1-kapwoning (split-level woning)                   3\n",
      "hoekwoning (dijkwoning)                                    3\n",
      "geschakelde woning (split-level woning)                    3\n",
      "halfvrijstaande woning (semi-bungalow)                     3\n",
      "halfvrijstaande woning (dijkwoning)                        3\n",
      "2-onder-1-kapwoning (waterwoning)                          2\n",
      "tussenwoning (kwadrant woning)                             2\n",
      "tussenwoning (waterwoning)                                 2\n",
      "tussenwoning (semi-bungalow)                               2\n",
      "eindwoning (patiowoning)                                   2\n",
      "vrijstaande woning (drive-in woning)                       2\n",
      "vrijstaande woning (waterwoning)                           2\n",
      "hoekwoning (split-level woning)                            2\n",
      "eindwoning (drive-in woning)                               2\n",
      "eindwoning (hofjeswoning)                                  2\n",
      "2-onder-1-kapwoning (hofjeswoning)                         2\n",
      "2-onder-1-kapwoning (drive-in woning)                      2\n",
      "hoekwoning (waterwoning)                                   1\n",
      "geschakelde 2-onder-1-kapwoning (patiowoning)              1\n",
      "vrijstaande woning (hofjeswoning)                          1\n",
      "geschakelde 2-onder-1-kapwoning (split-level woning)       1\n",
      "verspringend (dijkwoning)                                  1\n",
      "vrijstaande woning (bedrijfs- of dienstwoning)             1\n",
      "geschakelde woning (hofjeswoning)                          1\n",
      "vrijstaande woning (patiowoning)                           1\n",
      "hoekwoning (patiowoning)                                   1\n",
      "2-onder-1-kapwoning (patiowoning)                          1\n",
      "geschakelde woning (dijkwoning)                            1\n",
      "Name: count, dtype: int64\n"
     ]
    }
   ],
   "source": [
    "df['House Type'] = df['Soort woonhuis'].str.split(', ').str[0]\n",
    "df['House Subtype'] = df['Soort woonhuis'].str.split(', ').str[1]\n",
    "\n",
    "print(\"Value Counts of House Type\\n\",df['House Type'].value_counts())\n",
    "print(\"\\nValue Counts of House Type\\n\",df['House Subtype'].value_counts())"
   ]
  },
  {
   "cell_type": "code",
   "execution_count": 38,
   "metadata": {},
   "outputs": [
    {
     "data": {
      "text/plain": [
       "House Subtype\n",
       "tussenwoning                       3741\n",
       "vrijstaande woning                 1825\n",
       "2-onder-1-kapwoning                1439\n",
       "hoekwoning                         1427\n",
       "geschakelde woning                  621\n",
       "geschakelde 2-onder-1-kapwoning     411\n",
       "eindwoning                          268\n",
       "halfvrijstaande woning              147\n",
       "verspringend                          5\n",
       "Name: count, dtype: int64"
      ]
     },
     "execution_count": 38,
     "metadata": {},
     "output_type": "execute_result"
    }
   ],
   "source": [
    "df['House Subtype'] = df['House Subtype'].str.rsplit(\" (\").str[0]\n",
    "df['House Subtype'].value_counts()"
   ]
  },
  {
   "cell_type": "code",
   "execution_count": 39,
   "metadata": {},
   "outputs": [],
   "source": [
    "df[\"Bergruimte\"]=df[\"Overige inpandige ruimte m2\"] + \\\n",
    "                         df[\"Gebouwgebonden buitenruimte in m2\"] + \\\n",
    "                         df[\"Externe bergruimte in m2\"]\n",
    "bergruimte_columns=[\"Overige inpandige ruimte m2\",\"Gebouwgebonden buitenruimte in m2\",\"Externe bergruimte in m2\"]\n",
    "\n",
    "df=df.drop(columns=bergruimte_columns)"
   ]
  },
  {
   "cell_type": "code",
   "execution_count": 40,
   "metadata": {},
   "outputs": [],
   "source": [
    "categories = ['Soort garage','Balkon/dakterras','Schuur/berging', 'Tuin', 'Voorzieningen', 'Isolatie', 'Verwarming']"
   ]
  },
  {
   "cell_type": "code",
   "execution_count": 41,
   "metadata": {},
   "outputs": [
    {
     "name": "stdout",
     "output_type": "stream",
     "text": [
      "------------------------------------------------------\n",
      "Soort garage\n"
     ]
    },
    {
     "data": {
      "text/plain": [
       "Sum_Soort garage\n",
       "0    6237\n",
       "1    3057\n",
       "2     528\n",
       "3      51\n",
       "4       9\n",
       "5       2\n",
       "Name: count, dtype: int64"
      ]
     },
     "metadata": {},
     "output_type": "display_data"
    },
    {
     "name": "stdout",
     "output_type": "stream",
     "text": [
      "------------------------------------------------------\n",
      "\n",
      "\n",
      "------------------------------------------------------\n",
      "Balkon/dakterras\n"
     ]
    },
    {
     "data": {
      "text/plain": [
       "Sum_Balkon/dakterras\n",
       "0    6779\n",
       "1    2873\n",
       "2     224\n",
       "3       8\n",
       "Name: count, dtype: int64"
      ]
     },
     "metadata": {},
     "output_type": "display_data"
    },
    {
     "name": "stdout",
     "output_type": "stream",
     "text": [
      "------------------------------------------------------\n",
      "\n",
      "\n",
      "------------------------------------------------------\n",
      "Schuur/berging\n"
     ]
    },
    {
     "data": {
      "text/plain": [
       "Sum_Schuur/berging\n",
       "1    7575\n",
       "0    2309\n",
       "Name: count, dtype: int64"
      ]
     },
     "metadata": {},
     "output_type": "display_data"
    },
    {
     "name": "stdout",
     "output_type": "stream",
     "text": [
      "------------------------------------------------------\n",
      "\n",
      "\n",
      "------------------------------------------------------\n",
      "Tuin\n"
     ]
    },
    {
     "data": {
      "text/plain": [
       "Sum_Tuin\n",
       "2    4045\n",
       "1    2334\n",
       "0    2182\n",
       "3    1171\n",
       "4     137\n",
       "5      14\n",
       "7       1\n",
       "Name: count, dtype: int64"
      ]
     },
     "metadata": {},
     "output_type": "display_data"
    },
    {
     "name": "stdout",
     "output_type": "stream",
     "text": [
      "------------------------------------------------------\n",
      "\n",
      "\n",
      "------------------------------------------------------\n",
      "Voorzieningen\n"
     ]
    },
    {
     "data": {
      "text/plain": [
       "Sum_Voorzieningen\n",
       "1     5182\n",
       "2     1880\n",
       "3     1181\n",
       "4      658\n",
       "0      505\n",
       "5      318\n",
       "6      108\n",
       "7       38\n",
       "8       13\n",
       "10       1\n",
       "Name: count, dtype: int64"
      ]
     },
     "metadata": {},
     "output_type": "display_data"
    },
    {
     "name": "stdout",
     "output_type": "stream",
     "text": [
      "------------------------------------------------------\n",
      "\n",
      "\n",
      "------------------------------------------------------\n",
      "Isolatie\n"
     ]
    },
    {
     "data": {
      "text/plain": [
       "Sum_Isolatie\n",
       "1     4457\n",
       "2     1797\n",
       "4     1419\n",
       "3     1253\n",
       "5      750\n",
       "6      141\n",
       "0       46\n",
       "9       10\n",
       "7        5\n",
       "13       4\n",
       "8        1\n",
       "10       1\n",
       "Name: count, dtype: int64"
      ]
     },
     "metadata": {},
     "output_type": "display_data"
    },
    {
     "name": "stdout",
     "output_type": "stream",
     "text": [
      "------------------------------------------------------\n",
      "\n",
      "\n",
      "------------------------------------------------------\n",
      "Verwarming\n"
     ]
    },
    {
     "data": {
      "text/plain": [
       "Sum_Verwarming\n",
       "0    5891\n",
       "1    2581\n",
       "2     970\n",
       "3     364\n",
       "4      77\n",
       "5       1\n",
       "Name: count, dtype: int64"
      ]
     },
     "metadata": {},
     "output_type": "display_data"
    },
    {
     "name": "stdout",
     "output_type": "stream",
     "text": [
      "------------------------------------------------------\n",
      "\n",
      "\n"
     ]
    }
   ],
   "source": [
    "for i in categories:\n",
    "    print('------------------------------------------------------')\n",
    "    print(i)\n",
    "    column_list = [col for col in df.columns if i in col]\n",
    "    df['Sum_'+i] = df[column_list].sum(axis=1)\n",
    "    df = df.drop(columns=column_list)\n",
    "    display(df['Sum_'+i].value_counts())\n",
    "    print('------------------------------------------------------')\n",
    "    print('\\n')"
   ]
  },
  {
   "cell_type": "code",
   "execution_count": 42,
   "metadata": {},
   "outputs": [
    {
     "data": {
      "text/plain": [
       "6"
      ]
     },
     "execution_count": 42,
     "metadata": {},
     "output_type": "execute_result"
    }
   ],
   "source": [
    "df['Energielabel'] = df['Energielabel'].replace(99, np.nan)\n",
    "df.columns.get_loc('Energielabel')"
   ]
  },
  {
   "cell_type": "code",
   "execution_count": 43,
   "metadata": {},
   "outputs": [],
   "source": [
    "# Define the date columns\n",
    "date_columns = ['Aangeboden sinds', 'Verkoopdatum']\n",
    "\n",
    "# Separate date columns\n",
    "df_dates = df[date_columns]\n",
    "\n",
    "# Separate non-numerical columns\n",
    "non_numerical_columns = df.select_dtypes(include=['object']).columns.difference(date_columns)\n",
    "df_non_numerical = df[non_numerical_columns]\n",
    "\n",
    "# Separate numerical columns\n",
    "numerical_columns = df.drop(columns=date_columns + list(non_numerical_columns)).columns\n",
    "df_numerical = df[numerical_columns]\n",
    "\n",
    "# Apply KNNImputer to numerical columns\n",
    "imputer = KNNImputer(n_neighbors=len(df_numerical.columns) - 1, weights=\"uniform\")\n",
    "imputed_numerical_data = imputer.fit_transform(df_numerical)\n",
    "\n",
    "# Convert the imputed data back to a DataFrame\n",
    "df_numerical_imputed = pd.DataFrame(imputed_numerical_data, columns=numerical_columns)\n",
    "\n",
    "# Correct the Energielabel column rounding\n",
    "df_numerical_imputed['Energielabel'] = np.round(df_numerical_imputed['Energielabel'])\n",
    "\n",
    "# Combine all columns back into a single DataFrame\n",
    "df = pd.concat([df_dates, df_non_numerical, df_numerical_imputed], axis=1)"
   ]
  },
  {
   "cell_type": "code",
   "execution_count": 44,
   "metadata": {},
   "outputs": [
    {
     "data": {
      "text/plain": [
       "Energielabel\n",
       "4.0    2849\n",
       "6.0    2411\n",
       "5.0    1766\n",
       "3.0    1089\n",
       "2.0     612\n",
       "7.0     561\n",
       "1.0     335\n",
       "0.0     261\n",
       "Name: count, dtype: int64"
      ]
     },
     "execution_count": 44,
     "metadata": {},
     "output_type": "execute_result"
    }
   ],
   "source": [
    "df['Energielabel'].value_counts()"
   ]
  },
  {
   "cell_type": "code",
   "execution_count": 45,
   "metadata": {},
   "outputs": [],
   "source": [
    "df = df.drop(columns=['Woonruimte in m2', 'Vraagprijs per m2'])"
   ]
  },
  {
   "cell_type": "code",
   "execution_count": 46,
   "metadata": {},
   "outputs": [],
   "source": [
    "df['Aantal dagen tot verkoop'] = df['Aantal dagen tot verkoop'].astype(int)"
   ]
  },
  {
   "cell_type": "code",
   "execution_count": 47,
   "metadata": {},
   "outputs": [
    {
     "data": {
      "text/html": [
       "<div>\n",
       "<style scoped>\n",
       "    .dataframe tbody tr th:only-of-type {\n",
       "        vertical-align: middle;\n",
       "    }\n",
       "\n",
       "    .dataframe tbody tr th {\n",
       "        vertical-align: top;\n",
       "    }\n",
       "\n",
       "    .dataframe thead th {\n",
       "        text-align: right;\n",
       "    }\n",
       "</style>\n",
       "<table border=\"1\" class=\"dataframe\">\n",
       "  <thead>\n",
       "    <tr style=\"text-align: right;\">\n",
       "      <th></th>\n",
       "      <th>Aantal dagen tot verkoop</th>\n",
       "      <th>House Subtype</th>\n",
       "      <th>House Type</th>\n",
       "      <th>Soort dak</th>\n",
       "      <th>Soort woonhuis</th>\n",
       "      <th>Laatste vraagprijs</th>\n",
       "      <th>Soort bouw</th>\n",
       "      <th>Aantal kamers</th>\n",
       "      <th>Energielabel</th>\n",
       "      <th>Perceel m2</th>\n",
       "      <th>...</th>\n",
       "      <th>Zolder</th>\n",
       "      <th>Kelder</th>\n",
       "      <th>Bergruimte</th>\n",
       "      <th>Sum_Soort garage</th>\n",
       "      <th>Sum_Balkon/dakterras</th>\n",
       "      <th>Sum_Schuur/berging</th>\n",
       "      <th>Sum_Tuin</th>\n",
       "      <th>Sum_Voorzieningen</th>\n",
       "      <th>Sum_Isolatie</th>\n",
       "      <th>Sum_Verwarming</th>\n",
       "    </tr>\n",
       "  </thead>\n",
       "  <tbody>\n",
       "    <tr>\n",
       "      <th>0</th>\n",
       "      <td>295</td>\n",
       "      <td>2-onder-1-kapwoning</td>\n",
       "      <td>Eengezinswoning</td>\n",
       "      <td>Zadeldak bedekt met pannen</td>\n",
       "      <td>Eengezinswoning, 2-onder-1-kapwoning</td>\n",
       "      <td>485000.0</td>\n",
       "      <td>1.0</td>\n",
       "      <td>5.0</td>\n",
       "      <td>6.0</td>\n",
       "      <td>263.0</td>\n",
       "      <td>...</td>\n",
       "      <td>1.0</td>\n",
       "      <td>0.0</td>\n",
       "      <td>18.0</td>\n",
       "      <td>1.0</td>\n",
       "      <td>0.0</td>\n",
       "      <td>0.0</td>\n",
       "      <td>2.0</td>\n",
       "      <td>3.0</td>\n",
       "      <td>1.0</td>\n",
       "      <td>2.0</td>\n",
       "    </tr>\n",
       "    <tr>\n",
       "      <th>1</th>\n",
       "      <td>269</td>\n",
       "      <td>hoekwoning</td>\n",
       "      <td>Eengezinswoning</td>\n",
       "      <td>Zadeldak bedekt met pannen</td>\n",
       "      <td>Eengezinswoning, hoekwoning</td>\n",
       "      <td>375000.0</td>\n",
       "      <td>1.0</td>\n",
       "      <td>5.0</td>\n",
       "      <td>7.0</td>\n",
       "      <td>198.0</td>\n",
       "      <td>...</td>\n",
       "      <td>1.0</td>\n",
       "      <td>0.0</td>\n",
       "      <td>5.0</td>\n",
       "      <td>1.0</td>\n",
       "      <td>0.0</td>\n",
       "      <td>1.0</td>\n",
       "      <td>3.0</td>\n",
       "      <td>1.0</td>\n",
       "      <td>1.0</td>\n",
       "      <td>2.0</td>\n",
       "    </tr>\n",
       "    <tr>\n",
       "      <th>2</th>\n",
       "      <td>113</td>\n",
       "      <td>tussenwoning</td>\n",
       "      <td>Eengezinswoning</td>\n",
       "      <td>Lessenaardak bedekt met pannen</td>\n",
       "      <td>Eengezinswoning, tussenwoning</td>\n",
       "      <td>279500.0</td>\n",
       "      <td>1.0</td>\n",
       "      <td>3.0</td>\n",
       "      <td>4.0</td>\n",
       "      <td>128.0</td>\n",
       "      <td>...</td>\n",
       "      <td>1.0</td>\n",
       "      <td>0.0</td>\n",
       "      <td>4.0</td>\n",
       "      <td>0.0</td>\n",
       "      <td>0.0</td>\n",
       "      <td>1.0</td>\n",
       "      <td>1.0</td>\n",
       "      <td>4.0</td>\n",
       "      <td>1.0</td>\n",
       "      <td>2.0</td>\n",
       "    </tr>\n",
       "    <tr>\n",
       "      <th>3</th>\n",
       "      <td>158</td>\n",
       "      <td>vrijstaande woning</td>\n",
       "      <td>Villa</td>\n",
       "      <td>Samengesteld dak bedekt met bitumineuze dakbed...</td>\n",
       "      <td>Villa, vrijstaande woning</td>\n",
       "      <td>2330000.0</td>\n",
       "      <td>1.0</td>\n",
       "      <td>8.0</td>\n",
       "      <td>4.0</td>\n",
       "      <td>2479.0</td>\n",
       "      <td>...</td>\n",
       "      <td>1.0</td>\n",
       "      <td>1.0</td>\n",
       "      <td>0.0</td>\n",
       "      <td>1.0</td>\n",
       "      <td>0.0</td>\n",
       "      <td>1.0</td>\n",
       "      <td>2.0</td>\n",
       "      <td>6.0</td>\n",
       "      <td>1.0</td>\n",
       "      <td>3.0</td>\n",
       "    </tr>\n",
       "    <tr>\n",
       "      <th>4</th>\n",
       "      <td>164</td>\n",
       "      <td>vrijstaande woning</td>\n",
       "      <td>Villa</td>\n",
       "      <td>Samengesteld dak bedekt met bitumineuze dakbed...</td>\n",
       "      <td>Villa, vrijstaande woning</td>\n",
       "      <td>2270000.0</td>\n",
       "      <td>1.0</td>\n",
       "      <td>8.0</td>\n",
       "      <td>4.0</td>\n",
       "      <td>1796.0</td>\n",
       "      <td>...</td>\n",
       "      <td>1.0</td>\n",
       "      <td>1.0</td>\n",
       "      <td>0.0</td>\n",
       "      <td>1.0</td>\n",
       "      <td>0.0</td>\n",
       "      <td>1.0</td>\n",
       "      <td>2.0</td>\n",
       "      <td>6.0</td>\n",
       "      <td>1.0</td>\n",
       "      <td>3.0</td>\n",
       "    </tr>\n",
       "  </tbody>\n",
       "</table>\n",
       "<p>5 rows × 26 columns</p>\n",
       "</div>"
      ],
      "text/plain": [
       "   Aantal dagen tot verkoop        House Subtype       House Type  \\\n",
       "0                       295  2-onder-1-kapwoning  Eengezinswoning   \n",
       "1                       269           hoekwoning  Eengezinswoning   \n",
       "2                       113         tussenwoning  Eengezinswoning   \n",
       "3                       158   vrijstaande woning            Villa   \n",
       "4                       164   vrijstaande woning            Villa   \n",
       "\n",
       "                                           Soort dak  \\\n",
       "0                         Zadeldak bedekt met pannen   \n",
       "1                         Zadeldak bedekt met pannen   \n",
       "2                     Lessenaardak bedekt met pannen   \n",
       "3  Samengesteld dak bedekt met bitumineuze dakbed...   \n",
       "4  Samengesteld dak bedekt met bitumineuze dakbed...   \n",
       "\n",
       "                         Soort woonhuis  Laatste vraagprijs  Soort bouw  \\\n",
       "0  Eengezinswoning, 2-onder-1-kapwoning            485000.0         1.0   \n",
       "1           Eengezinswoning, hoekwoning            375000.0         1.0   \n",
       "2         Eengezinswoning, tussenwoning            279500.0         1.0   \n",
       "3             Villa, vrijstaande woning           2330000.0         1.0   \n",
       "4             Villa, vrijstaande woning           2270000.0         1.0   \n",
       "\n",
       "   Aantal kamers  Energielabel  Perceel m2  ...  Zolder  Kelder  Bergruimte  \\\n",
       "0            5.0           6.0       263.0  ...     1.0     0.0        18.0   \n",
       "1            5.0           7.0       198.0  ...     1.0     0.0         5.0   \n",
       "2            3.0           4.0       128.0  ...     1.0     0.0         4.0   \n",
       "3            8.0           4.0      2479.0  ...     1.0     1.0         0.0   \n",
       "4            8.0           4.0      1796.0  ...     1.0     1.0         0.0   \n",
       "\n",
       "   Sum_Soort garage  Sum_Balkon/dakterras  Sum_Schuur/berging  Sum_Tuin  \\\n",
       "0               1.0                   0.0                 0.0       2.0   \n",
       "1               1.0                   0.0                 1.0       3.0   \n",
       "2               0.0                   0.0                 1.0       1.0   \n",
       "3               1.0                   0.0                 1.0       2.0   \n",
       "4               1.0                   0.0                 1.0       2.0   \n",
       "\n",
       "   Sum_Voorzieningen  Sum_Isolatie  Sum_Verwarming  \n",
       "0                3.0           1.0             2.0  \n",
       "1                1.0           1.0             2.0  \n",
       "2                4.0           1.0             2.0  \n",
       "3                6.0           1.0             3.0  \n",
       "4                6.0           1.0             3.0  \n",
       "\n",
       "[5 rows x 26 columns]"
      ]
     },
     "execution_count": 47,
     "metadata": {},
     "output_type": "execute_result"
    }
   ],
   "source": [
    "# Drop the 'Verkoopdatum' and 'Aangeboden sinds' columns\n",
    "df = df.drop(columns=['Verkoopdatum', 'Aangeboden sinds','Status'])\n",
    "df.head()"
   ]
  },
  {
   "cell_type": "code",
   "execution_count": 48,
   "metadata": {},
   "outputs": [
    {
     "data": {
      "text/plain": [
       "['Aantal dagen tot verkoop',\n",
       " 'Laatste vraagprijs',\n",
       " 'Soort bouw',\n",
       " 'Aantal kamers',\n",
       " 'Energielabel',\n",
       " 'Perceel m2',\n",
       " 'Achtertuin m2',\n",
       " 'Inhoud in m3',\n",
       " 'Aantal slaapkamers',\n",
       " 'Bathrooms',\n",
       " 'Toilets',\n",
       " 'Woonlagen',\n",
       " 'Zolder',\n",
       " 'Kelder',\n",
       " 'Bergruimte',\n",
       " 'Sum_Soort garage',\n",
       " 'Sum_Balkon/dakterras',\n",
       " 'Sum_Schuur/berging',\n",
       " 'Sum_Tuin',\n",
       " 'Sum_Voorzieningen',\n",
       " 'Sum_Isolatie',\n",
       " 'Sum_Verwarming']"
      ]
     },
     "execution_count": 48,
     "metadata": {},
     "output_type": "execute_result"
    }
   ],
   "source": [
    "# List the numerical columns\n",
    "numerical_columns = df.select_dtypes(include=[np.number]).columns.tolist()\n",
    "numerical_columns"
   ]
  },
  {
   "cell_type": "code",
   "execution_count": 49,
   "metadata": {},
   "outputs": [
    {
     "data": {
      "text/plain": [
       "Laatste vraagprijs  Soort bouw  Aantal kamers  Energielabel  Perceel m2  Achtertuin m2  Inhoud in m3  Aantal slaapkamers  Bathrooms  Toilets  Woonlagen  Zolder  Kelder  Bergruimte  Sum_Soort garage  Sum_Balkon/dakterras  Sum_Schuur/berging  Sum_Tuin  Sum_Voorzieningen  Sum_Isolatie  Sum_Verwarming\n",
       "-0.164286           1.0         -2.0            0.0          -0.339394   -0.538462      -0.036036     -0.5                0.0        0.0       0.0       1.0     0.0     -0.500000   0.0               0.0                    0.0                -1.0      0.0                -0.5          2.0               6\n",
       "-0.047619           1.0         -1.0            0.5          -0.175758   -0.538462       0.308880      0.0                0.0        0.0       0.0       1.0     0.0     -0.727273   0.0               0.0                    0.0                 0.0      0.0                 0.0          1.0               6\n",
       "-0.376190           1.0         -3.0            0.0          -0.703030   -0.538462      -1.564994     -1.0                0.0        0.0      -1.0       0.0     0.0     -0.727273   0.0               0.0                    0.0                -2.0      4.0                 0.0          3.0               5\n",
       "-0.209524           1.0         -3.0            0.0          -0.703030   -0.538462      -1.564994     -1.0                0.0        0.0      -1.0       0.0     0.0     -0.727273   0.0               0.0                    0.0                -2.0      4.0                 0.0          3.0               4\n",
       "-0.161905           1.0         -3.0            0.0          -0.600000   -0.538462      -1.070785     -1.0                0.0        0.0      -1.0       0.0     0.0     -0.545455   0.0               1.0                    0.0                -2.0      2.0                 0.0          2.0               4\n",
       "                                                                                                                                                                                                                                                                                                             ..\n",
       "-0.285714           0.0         -1.0            1.0          -0.406061   -0.538462      -0.617761     -0.5                0.0        0.0       1.0       0.0     0.0      0.454545   2.0               1.0                   -1.0                -2.0      0.0                 0.0          0.0               1\n",
       "                                                              0.400000    0.288462       0.422136      0.0                0.0        0.0       0.0       1.0     0.0      1.136364   1.0               0.0                    0.0                 0.0      1.0                -0.5          0.0               1\n",
       "                                                              0.533333   -0.528846       0.550837      0.0                0.0        0.0       0.0       1.0     0.0      1.000000   1.0               0.0                    0.0                 0.0      1.0                 1.0          3.0               1\n",
       "                                 0.0           -2.0          -0.139394    0.259615       0.334620      0.0                0.0        0.0       0.0       1.0     0.0      0.409091   0.0               0.0                    0.0                -1.0      2.0                -0.5          0.0               1\n",
       " 12.195238          0.0          4.0            1.0           50.587879   74.884615      7.124839      0.0                1.0        1.0       0.0       1.0     1.0      10.000000  2.0               0.0                   -1.0                -1.0      3.0                -0.5          4.0               1\n",
       "Name: count, Length: 9762, dtype: int64"
      ]
     },
     "execution_count": 49,
     "metadata": {},
     "output_type": "execute_result"
    }
   ],
   "source": [
    "# We use Robust to scale the data between 0 and 1 from numerical columns\n",
    "numerical_columns = df.select_dtypes(include=['float64', 'int64']).columns\n",
    "scaler = RobustScaler()\n",
    "df_scaled = df[numerical_columns].copy()\n",
    "df_scaled[df_scaled.columns] = scaler.fit_transform(df_scaled[df_scaled.columns])\n",
    "df_scaled.value_counts()"
   ]
  },
  {
   "cell_type": "code",
   "execution_count": 70,
   "metadata": {},
   "outputs": [],
   "source": [
    "# Load all names of features into feauture_names\n",
    "\n",
    "feature_names = df_scaled.columns.tolist()"
   ]
  },
  {
   "cell_type": "code",
   "execution_count": 50,
   "metadata": {},
   "outputs": [],
   "source": [
    "X = df_scaled.drop(columns='Laatste vraagprijs')\n",
    "y = df_scaled['Laatste vraagprijs']"
   ]
  },
  {
   "cell_type": "code",
   "execution_count": 51,
   "metadata": {},
   "outputs": [],
   "source": [
    "torch.manual_seed(1234)\n",
    "np.random.seed(1234)"
   ]
  },
  {
   "cell_type": "code",
   "execution_count": 52,
   "metadata": {},
   "outputs": [],
   "source": [
    "X_train, X_test, y_train, y_test = train_test_split(X, y, test_size=0.3, random_state=0)"
   ]
  },
  {
   "cell_type": "code",
   "execution_count": 53,
   "metadata": {},
   "outputs": [],
   "source": [
    "# Convert to PyTorch tensors\n",
    "X_train = torch.tensor(X_train.to_numpy()).float()\n",
    "y_train = torch.tensor(y_train.to_numpy()).view(-1, 1).float()\n",
    "\n",
    "X_test = torch.tensor(X_test.to_numpy()).float()\n",
    "y_test = torch.tensor(y_test.to_numpy()).view(-1, 1).float()\n",
    "\n",
    "# Create datasets and data loaders\n",
    "datasets = torch.utils.data.TensorDataset(X_train, y_train)\n",
    "train_iter = torch.utils.data.DataLoader(datasets, batch_size=10, shuffle=True)"
   ]
  },
  {
   "cell_type": "code",
   "execution_count": 59,
   "metadata": {},
   "outputs": [],
   "source": [
    "batch_size = 50\n",
    "num_epochs = 200\n",
    "learning_rate = 0.0001\n",
    "size_hidden1 = 100\n",
    "size_hidden2 = 50\n",
    "size_hidden3 = 10\n",
    "size_hidden4 = 1\n",
    "\n",
    "class Model(nn.Module):\n",
    "    def __init__(self):\n",
    "        super().__init__()\n",
    "        self.lin1 = nn.Linear(20, size_hidden1)\n",
    "        self.relu1 = nn.ReLU()\n",
    "        self.lin2 = nn.Linear(size_hidden1, size_hidden2)\n",
    "        self.relu2 = nn.ReLU()\n",
    "        self.lin3 = nn.Linear(size_hidden2, size_hidden3)\n",
    "        self.relu3 = nn.ReLU()\n",
    "        self.lin4 = nn.Linear(size_hidden3, size_hidden4)\n",
    "\n",
    "    def forward(self, input):\n",
    "        return self.lin4(self.relu3(self.lin3(self.relu2(self.lin2(self.relu1(self.lin1(input)))))))"
   ]
  },
  {
   "cell_type": "code",
   "execution_count": 60,
   "metadata": {},
   "outputs": [],
   "source": [
    "model = Model()\n",
    "model.train()\n",
    "criterion = nn.MSELoss(reduction='sum')"
   ]
  },
  {
   "cell_type": "code",
   "execution_count": 61,
   "metadata": {},
   "outputs": [],
   "source": [
    "def train(model_inp, num_epochs = num_epochs):\n",
    "    optimizer = torch.optim.RMSprop(model_inp.parameters(), lr=learning_rate)\n",
    "    for epoch in range(num_epochs):  # loop over the dataset multiple times\n",
    "        running_loss = 0.0\n",
    "        for inputs, labels in train_iter:\n",
    "            # forward pass\n",
    "            outputs = model_inp(inputs)\n",
    "            # defining loss\n",
    "            loss = criterion(outputs, labels)\n",
    "            # zero the parameter gradients\n",
    "            optimizer.zero_grad()\n",
    "            # computing gradients\n",
    "            loss.backward()\n",
    "            # accumulating running loss\n",
    "            running_loss += loss.item()\n",
    "            # updated weights based on computed gradients\n",
    "            optimizer.step()\n",
    "        if epoch % 20 == 0:\n",
    "            print('Epoch [%d]/[%d] running accumulative loss across all batches: %.3f' %\n",
    "                  (epoch + 1, num_epochs, running_loss))\n",
    "        running_loss = 0.0"
   ]
  },
  {
   "cell_type": "code",
   "execution_count": 62,
   "metadata": {},
   "outputs": [],
   "source": [
    "def train_load_save_model(model_obj, model_path):\n",
    "    if path.isfile(model_path):\n",
    "        # load model\n",
    "        print('Loading pre-trained model from: {}'.format(model_path))\n",
    "        model_obj.load_state_dict(torch.load(model_path))\n",
    "    else:\n",
    "        # train model\n",
    "        train(model_obj)\n",
    "        print('Finished training the model. Saving the model to the path: {}'.format(model_path))\n",
    "        torch.save(model_obj.state_dict(), model_path)"
   ]
  },
  {
   "cell_type": "code",
   "execution_count": 63,
   "metadata": {},
   "outputs": [
    {
     "name": "stdout",
     "output_type": "stream",
     "text": [
      "Epoch [1]/[200] running accumulative loss across all batches: 5916.390\n",
      "Epoch [21]/[200] running accumulative loss across all batches: 3240.668\n",
      "Epoch [41]/[200] running accumulative loss across all batches: 2951.229\n",
      "Epoch [61]/[200] running accumulative loss across all batches: 2729.649\n",
      "Epoch [81]/[200] running accumulative loss across all batches: 2512.458\n",
      "Epoch [101]/[200] running accumulative loss across all batches: 2362.244\n",
      "Epoch [121]/[200] running accumulative loss across all batches: 2173.217\n",
      "Epoch [141]/[200] running accumulative loss across all batches: 2023.925\n",
      "Epoch [161]/[200] running accumulative loss across all batches: 1863.734\n",
      "Epoch [181]/[200] running accumulative loss across all batches: 1732.505\n",
      "Finished training the model. Saving the model to the path: prediction_model.pt\n"
     ]
    }
   ],
   "source": [
    "SAVED_MODEL_PATH = 'prediction_model.pt'\n",
    "train_load_save_model(model, SAVED_MODEL_PATH)"
   ]
  },
  {
   "cell_type": "code",
   "execution_count": 65,
   "metadata": {},
   "outputs": [
    {
     "name": "stdout",
     "output_type": "stream",
     "text": [
      "model err:  0.705113\n"
     ]
    }
   ],
   "source": [
    "model.eval()\n",
    "outputs = model(X_test)\n",
    "err = np.sqrt(mean_squared_error(outputs.detach().numpy(), y_test.detach().numpy()))\n",
    "\n",
    "print('model err: ', err)"
   ]
  },
  {
   "cell_type": "code",
   "execution_count": 66,
   "metadata": {},
   "outputs": [
    {
     "data": {
      "image/png": "[encoded data removed]",
      "text/plain": [
       "<Figure size 640x480 with 1 Axes>"
      ]
     },
     "metadata": {},
     "output_type": "display_data"
    }
   ],
   "source": [
    "import matplotlib.pyplot as plt\n",
    "\n",
    "plt.scatter(y_test.detach().numpy(), outputs.detach().numpy(), alpha=0.5)\n",
    "plt.xlabel(\"Actual Values\")\n",
    "plt.ylabel(\"Predicted Values\")\n",
    "plt.title(\"Actual vs. Predicted\")\n",
    "plt.show()"
   ]
  },
  {
   "cell_type": "markdown",
   "metadata": {},
   "source": [
    "*Observations:*\n",
    "\n",
    "1) Clustered Predictions: Most predictions are concentrated in a narrow range, suggesting the model struggles to generalize for higher actual values.\n",
    "\n",
    "2) Underestimation: For higher actual values, the model tends to underestimate, as seen by the points below the diagonal line."
   ]
  },
  {
   "cell_type": "code",
   "execution_count": 67,
   "metadata": {},
   "outputs": [
    {
     "data": {
      "image/png": "[encoded data removed]",
      "text/plain": [
       "<Figure size 640x480 with 1 Axes>"
      ]
     },
     "metadata": {},
     "output_type": "display_data"
    }
   ],
   "source": [
    "residuals = y_test.detach().numpy() - outputs.detach().numpy()\n",
    "plt.hist(residuals, bins=50)\n",
    "plt.title(\"Residuals Distribution\")\n",
    "plt.show()"
   ]
  },
  {
   "cell_type": "markdown",
   "metadata": {},
   "source": [
    "*Observations:*\n",
    "\n",
    "1) Centered Around Zero:\n",
    "\n",
    "The residuals are mostly centered around 0, which is a good sign as it indicates that the model is not systematically biased (e.g., consistently overestimating or underestimating).\n",
    "\n",
    "2) Skewness:\n",
    "\n",
    "There is a slight positive skew, as some residuals extend further to the right (positive values). This suggests that the model tends to underestimate higher actual values.\n",
    "\n",
    "3) Outliers:\n",
    "\n",
    "There are a few outliers on both ends of the distribution (e.g., residuals less than -2 or greater than 4). These could indicate cases where the model struggles to predict accurately.\n",
    "\n",
    "4) Spread:\n",
    "\n",
    "The residuals are relatively concentrated near zero, but the spread indicates that the model's predictions are not perfectly accurate, especially for certain data points."
   ]
  },
  {
   "cell_type": "code",
   "execution_count": 68,
   "metadata": {},
   "outputs": [
    {
     "name": "stderr",
     "output_type": "stream",
     "text": [
      "c:\\Users\\HUAWEI\\AppData\\Local\\Programs\\Python\\Python312\\Lib\\site-packages\\captum\\_utils\\gradient.py:57: UserWarning: Input Tensor 0 did not already require gradients, required_grads has been set automatically.\n",
      "  warnings.warn(\n",
      "c:\\Users\\HUAWEI\\AppData\\Local\\Programs\\Python\\Python312\\Lib\\site-packages\\captum\\attr\\_core\\deep_lift.py:304: UserWarning: Setting forward, backward hooks and attributes on non-linear\n",
      "               activations. The hooks and attributes will be removed\n",
      "            after the attribution is finished\n",
      "  warnings.warn(\n"
     ]
    }
   ],
   "source": [
    "# We define different feature attributtion based methods here:\n",
    "ig = IntegratedGradients(model)\n",
    "ig_nt = NoiseTunnel(ig)\n",
    "dl = DeepLift(model)\n",
    "gs = GradientShap(model)\n",
    "fa = FeatureAblation(model)\n",
    "\n",
    "ig_attr_test = ig.attribute(X_test, n_steps=50)\n",
    "ig_nt_attr_test = ig_nt.attribute(X_test)\n",
    "dl_attr_test = dl.attribute(X_test)\n",
    "gs_attr_test = gs.attribute(X_test, X_train)\n",
    "fa_attr_test = fa.attribute(X_test)"
   ]
  },
  {
   "cell_type": "code",
   "execution_count": 71,
   "metadata": {},
   "outputs": [
    {
     "data": {
      "image/png": "[encoded data removed]",
      "text/plain": [
       "<Figure size 1600x1000 with 1 Axes>"
      ]
     },
     "metadata": {},
     "output_type": "display_data"
    }
   ],
   "source": [
    "# prepare attributions for visualization\n",
    "\n",
    "x_axis_data = np.arange(X_test.shape[1])\n",
    "x_axis_data_labels = list(map(lambda idx: feature_names[idx], x_axis_data))\n",
    "\n",
    "ig_attr_test_sum = ig_attr_test.detach().numpy().sum(0)\n",
    "ig_attr_test_norm_sum = ig_attr_test_sum / np.linalg.norm(ig_attr_test_sum, ord=1)\n",
    "\n",
    "ig_nt_attr_test_sum = ig_nt_attr_test.detach().numpy().sum(0)\n",
    "ig_nt_attr_test_norm_sum = ig_nt_attr_test_sum / np.linalg.norm(ig_nt_attr_test_sum, ord=1)\n",
    "\n",
    "dl_attr_test_sum = dl_attr_test.detach().numpy().sum(0)\n",
    "dl_attr_test_norm_sum = dl_attr_test_sum / np.linalg.norm(dl_attr_test_sum, ord=1)\n",
    "\n",
    "gs_attr_test_sum = gs_attr_test.detach().numpy().sum(0)\n",
    "gs_attr_test_norm_sum = gs_attr_test_sum / np.linalg.norm(gs_attr_test_sum, ord=1)\n",
    "\n",
    "fa_attr_test_sum = fa_attr_test.detach().numpy().sum(0)\n",
    "fa_attr_test_norm_sum = fa_attr_test_sum / np.linalg.norm(fa_attr_test_sum, ord=1)\n",
    "\n",
    "lin_weight = model.lin1.weight[0].detach().numpy()\n",
    "y_axis_lin_weight = lin_weight / np.linalg.norm(lin_weight, ord=1)\n",
    "\n",
    "width = 0.14\n",
    "legends = ['Int Grads', 'Int Grads w/SmoothGrad','DeepLift', 'GradientSHAP', 'Feature Ablation', 'Weights']\n",
    "\n",
    "plt.figure(figsize=(16, 10))\n",
    "\n",
    "ax = plt.subplot()\n",
    "ax.set_title('Comparing input feature importances across multiple algorithms and learned weights')\n",
    "ax.set_ylabel('Attributions')\n",
    "\n",
    "FONT_SIZE = 16\n",
    "plt.rc('font', size=FONT_SIZE)            # fontsize of the text sizes\n",
    "plt.rc('axes', titlesize=FONT_SIZE)       # fontsize of the axes title\n",
    "plt.rc('axes', labelsize=FONT_SIZE)       # fontsize of the x and y labels\n",
    "plt.rc('legend', fontsize=FONT_SIZE - 4)  # fontsize of the legend\n",
    "\n",
    "ax.bar(x_axis_data, ig_attr_test_norm_sum, width, align='center', alpha=0.8, color='#eb5e7c')\n",
    "ax.bar(x_axis_data + width, ig_nt_attr_test_norm_sum, width, align='center', alpha=0.7, color='#A90000')\n",
    "ax.bar(x_axis_data + 2 * width, dl_attr_test_norm_sum, width, align='center', alpha=0.6, color='#34b8e0')\n",
    "ax.bar(x_axis_data + 3 * width, gs_attr_test_norm_sum, width, align='center',  alpha=0.8, color='#4260f5')\n",
    "ax.bar(x_axis_data + 4 * width, fa_attr_test_norm_sum, width, align='center', alpha=1.0, color='#49ba81')\n",
    "ax.bar(x_axis_data + 5 * width, y_axis_lin_weight, width, align='center', alpha=1.0, color='grey')\n",
    "ax.autoscale_view()\n",
    "plt.tight_layout()\n",
    "\n",
    "ax.set_xticks(x_axis_data + 0.5)\n",
    "ax.set_xticklabels(x_axis_data_labels)\n",
    "\n",
    "plt.legend(legends, loc=3)\n",
    "plt.show()"
   ]
  },
  {
   "cell_type": "markdown",
   "metadata": {},
   "source": [
    "*Observations:*\n",
    "\n",
    "1) Consistency Across Methods:\n",
    "\n",
    "- Some features (e.g., Aantal kamers, Perceel, Aantal slaapkamers) show consistent importance across multiple attribution methods, indicating their strong influence on the model's predictions.\n",
    "\n",
    "- However, other features (e.g., Achtertuin, Bouwjaar) have varying attributions across methods, suggesting that their importance might be less certain or context-dependent.\n",
    "\n",
    "2) Dominant Features:\n",
    "\n",
    "- Features like Laatste vraagprijs and Aantal kamers have high positive or negative attributions across most methods, indicating they are key drivers of the model's predictions.\n",
    "\n",
    "- The learned weights (grey bars) also highlight these features as significant.\n",
    "\n",
    "3) Negative Attributions:\n",
    "\n",
    "- Some features (e.g., Achtertuin, Bouwjaar) have negative attributions, meaning they contribute to reducing the predicted value.\n",
    "\n",
    "4) Discrepancies:\n",
    "\n",
    "- There are noticeable discrepancies between the learned weights (grey bars) and the attributions from other methods. This is expected because learned weights reflect the model's linear relationships, while attribution methods capture non-linear interactions.\n",
    "\n",
    "5) Feature Ablation:\n",
    "\n",
    "- The Feature Ablation method (green bars) shows some features as more important compared to other methods, likely because it evaluates the impact of removing features entirely."
   ]
  }
 ],
 "metadata": {
  "kernelspec": {
   "display_name": "Python 3",
   "language": "python",
   "name": "python3"
  },
  "language_info": {
   "codemirror_mode": {
    "name": "ipython",
    "version": 3
   },
   "file_extension": ".py",
   "mimetype": "text/x-python",
   "name": "python",
   "nbconvert_exporter": "python",
   "pygments_lexer": "ipython3",
   "version": "3.12.3"
  }
 },
 "nbformat": 4,
 "nbformat_minor": 2
}
